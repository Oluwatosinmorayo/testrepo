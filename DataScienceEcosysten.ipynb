{
 "cells": [
  {
   "cell_type": "markdown",
   "id": "9681ac73-9a50-42fa-b92f-894d87b332c3",
   "metadata": {},
   "source": [
    "# Data Science Tools and Ecosystem"
   ]
  },
  {
   "cell_type": "markdown",
   "id": "6342cf43-223a-4d9c-9752-3967623c2d13",
   "metadata": {},
   "source": [
    "Introduction for Notebook"
   ]
  },
  {
   "cell_type": "markdown",
   "id": "e72d1a38-a0d1-47cf-bd40-48d897347c07",
   "metadata": {},
   "source": [
    "  In this notebook, Data science Tools and Ecosystem are summarized with practical examples."
   ]
  },
  {
   "cell_type": "markdown",
   "id": "892f7ec3-afc6-4af0-910d-99ef3d757c5f",
   "metadata": {},
   "source": [
    "__Objective__"
   ]
  },
  {
   "cell_type": "markdown",
   "id": "7a02abee-21fe-4500-8bd9-52f8afeb8c9e",
   "metadata": {},
   "source": [
    " - Examples of Data Science language\n",
    " - Examples of Data Science libraries\n",
    " - Samples of arithmetic expression\n",
    " - Conversion of time from minutes to hour by division"
   ]
  },
  {
   "cell_type": "markdown",
   "id": "2245083c-30a6-4456-8f66-15164f8d5754",
   "metadata": {},
   "source": [
    "Examples of popular Data Science languages are"
   ]
  },
  {
   "cell_type": "markdown",
   "id": "aedd59cc-3aeb-4267-a138-af87298ebb0c",
   "metadata": {},
   "source": [
    "1. SQL\n",
    "2. Python\n",
    "3. R\n",
    "4. JavaScript\n",
    "5. Java"
   ]
  },
  {
   "cell_type": "markdown",
   "id": "d884070f-59ba-4742-9d64-bd5b0cff2f05",
   "metadata": {},
   "source": [
    "Some of the libraries commonly used in Data Science are"
   ]
  },
  {
   "cell_type": "markdown",
   "id": "034f28e7-26f4-410b-8a94-5e17ba1cdc7a",
   "metadata": {},
   "source": [
    "1. Jupyter\n",
    "2. Pandas\n",
    "3. PyTorch\n",
    "4. TensorFlow\n",
    "5. NumPy"
   ]
  },
  {
   "cell_type": "markdown",
   "id": "38192a2b-8b7d-4071-a06a-054e81527493",
   "metadata": {},
   "source": [
    "Data Science tools"
   ]
  },
  {
   "cell_type": "markdown",
   "id": "ba604c8a-733e-4913-aeea-782a3188b58b",
   "metadata": {},
   "source": [
    "|S/N |Tools         |\n",
    "|----|--------------|\n",
    "|1   |Apache Spark  |\n",
    "|2   |Apache Hadoop |\n",
    "|3   |MySQL         |\n",
    "|4   |Node RED      |\n",
    "|5   |Apache Airflow|\n"
   ]
  },
  {
   "cell_type": "markdown",
   "id": "3a048bd7-dfb3-4cbc-bf36-bf3ebd86758f",
   "metadata": {},
   "source": [
    "### Example of Arithmetic expression in Python"
   ]
  },
  {
   "cell_type": "code",
   "execution_count": 4,
   "id": "40fa959b-4d54-4067-94d9-800bbda54f4e",
   "metadata": {},
   "outputs": [
    {
     "data": {
      "text/plain": [
       "21"
      ]
     },
     "execution_count": 4,
     "metadata": {},
     "output_type": "execute_result"
    }
   ],
   "source": [
    "3+5+7+6"
   ]
  },
  {
   "cell_type": "markdown",
   "id": "a097a314-5ac0-42c1-8379-f5ef76a11ee2",
   "metadata": {},
   "source": [
    "*sample of arithmetic expression to multiple and add integers*"
   ]
  },
  {
   "cell_type": "code",
   "execution_count": 10,
   "id": "72268f67-ce74-4806-927e-38b3e67fd58a",
   "metadata": {},
   "outputs": [
    {
     "data": {
      "text/plain": [
       "17"
      ]
     },
     "execution_count": 10,
     "metadata": {},
     "output_type": "execute_result"
    }
   ],
   "source": [
    "(4*2)+(2*3)+3"
   ]
  },
  {
   "cell_type": "markdown",
   "id": "a9929b52-6381-4baa-861e-2fc12d150334",
   "metadata": {},
   "source": [
    "This will convert 200 minutes to hours by diving with 60"
   ]
  },
  {
   "cell_type": "code",
   "execution_count": 19,
   "id": "cfb978d7-21f7-4e1d-9114-1ed606cb881a",
   "metadata": {},
   "outputs": [
    {
     "name": "stdout",
     "output_type": "stream",
     "text": [
      "3:20\n"
     ]
    }
   ],
   "source": [
    "minutes = 200\n",
    "\n",
    "\n",
    "hours, minutes = divmod(minutes, 60)\n",
    "\n",
    "print(\"%d:%02d\" % (hours, minutes))\n"
   ]
  },
  {
   "cell_type": "markdown",
   "id": "48e8972b-4913-4049-bbef-7bfb4d621710",
   "metadata": {},
   "source": [
    "## Author  \n",
    "Oluwatosin Adereti"
   ]
  }
 ],
 "metadata": {
  "kernelspec": {
   "display_name": "Python",
   "language": "python",
   "name": "conda-env-python-py"
  },
  "language_info": {
   "codemirror_mode": {
    "name": "ipython",
    "version": 3
   },
   "file_extension": ".py",
   "mimetype": "text/x-python",
   "name": "python",
   "nbconvert_exporter": "python",
   "pygments_lexer": "ipython3",
   "version": "3.7.12"
  }
 },
 "nbformat": 4,
 "nbformat_minor": 5
}
